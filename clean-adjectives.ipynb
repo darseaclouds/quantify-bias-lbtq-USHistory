{
 "cells": [
  {
   "cell_type": "markdown",
   "id": "ca9479c0",
   "metadata": {},
   "source": [
    "Clean the adjective lists"
   ]
  },
  {
   "cell_type": "code",
   "execution_count": 12,
   "id": "82b4ed26",
   "metadata": {},
   "outputs": [
    {
     "data": {
      "text/plain": [
       "987"
      ]
     },
     "execution_count": 12,
     "metadata": {},
     "output_type": "execute_result"
    }
   ],
   "source": [
    "with open(\"coha-adj-words.txt\") as file:\n",
    "        adjList = file.readlines()\n",
    "        \n",
    "adjList = [a.split('\\t') for a in adjList]\n",
    "adjList = [a for a in adjList if len(a) == 3]\n",
    "adjList = [a[1].strip() for a in adjList if a[1].strip().isalpha()]\n",
    "len(adjList)"
   ]
  },
  {
   "cell_type": "code",
   "execution_count": 13,
   "id": "b4978514",
   "metadata": {},
   "outputs": [],
   "source": [
    "with open(\"coha-adj-words.txt\", 'w') as file:\n",
    "    for a in adjList:\n",
    "        file.write(a + '\\n')"
   ]
  },
  {
   "cell_type": "code",
   "execution_count": 26,
   "id": "1a96e957",
   "metadata": {},
   "outputs": [
    {
     "data": {
      "text/plain": [
       "992"
      ]
     },
     "execution_count": 26,
     "metadata": {},
     "output_type": "execute_result"
    }
   ],
   "source": [
    "with open(\"raw.txt\") as file:\n",
    "        adjList = file.readlines()\n",
    "        \n",
    "adjList = [a.split('\\t')[3].strip()[1:-1] for a in adjList]\n",
    "adjList = [a.lower() for a in adjList if a.isalpha()]\n",
    "len(adjList)"
   ]
  },
  {
   "cell_type": "code",
   "execution_count": 27,
   "id": "f2e0eb57",
   "metadata": {},
   "outputs": [],
   "source": [
    "with open(\"coha-adj-lemmas.txt\", 'w') as file:\n",
    "    for a in adjList:\n",
    "        file.write(a + '\\n')"
   ]
  },
  {
   "cell_type": "code",
   "execution_count": null,
   "id": "f048ca1a",
   "metadata": {},
   "outputs": [],
   "source": []
  }
 ],
 "metadata": {
  "kernelspec": {
   "display_name": "Python 3 (ipykernel)",
   "language": "python",
   "name": "python3"
  },
  "language_info": {
   "codemirror_mode": {
    "name": "ipython",
    "version": 3
   },
   "file_extension": ".py",
   "mimetype": "text/x-python",
   "name": "python",
   "nbconvert_exporter": "python",
   "pygments_lexer": "ipython3",
   "version": "3.8.8"
  }
 },
 "nbformat": 4,
 "nbformat_minor": 5
}
