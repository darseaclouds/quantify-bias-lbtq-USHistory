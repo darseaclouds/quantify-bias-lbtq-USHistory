{
 "cells": [
  {
   "cell_type": "markdown",
   "id": "6419d22a",
   "metadata": {},
   "source": [
    "# Make dataframes printable"
   ]
  },
  {
   "cell_type": "code",
   "execution_count": 18,
   "id": "5e3ea6a3",
   "metadata": {},
   "outputs": [],
   "source": [
    "import pandas as pd\n",
    "import json"
   ]
  },
  {
   "cell_type": "code",
   "execution_count": 19,
   "id": "5bcec9d4",
   "metadata": {},
   "outputs": [],
   "source": [
    "keywords = ['gay', 'homosexual', 'lesbian', 'bisexual', 'queer', 'transgender']"
   ]
  },
  {
   "cell_type": "code",
   "execution_count": 20,
   "id": "ee64cf2a",
   "metadata": {},
   "outputs": [],
   "source": [
    "def getDF(keyword):\n",
    "    file = \"nn-words/all/\"+keyword+'.json'\n",
    "    with open(file) as json_file:\n",
    "        data = json.load(json_file)\n",
    "    for k in data:\n",
    "        if len(data[k]) < 30:\n",
    "            data[k] = [0] * 30\n",
    "    df = pd.DataFrame(data)\n",
    "    html = df.to_html()\n",
    "    text_file = open(\"nn-words/frames-all/\"+keyword+\".html\", \"w\")\n",
    "    text_file.write(html)\n",
    "    text_file.close()\n",
    "    return df"
   ]
  },
  {
   "cell_type": "code",
   "execution_count": 21,
   "id": "26549324",
   "metadata": {},
   "outputs": [],
   "source": [
    "for k in keywords:\n",
    "    getDF(k)"
   ]
  },
  {
   "cell_type": "code",
   "execution_count": 57,
   "id": "53dae2e1",
   "metadata": {},
   "outputs": [],
   "source": [
    "def getDFadj(name): # name ex: gay\n",
    "    for pair in ['he', 'she', 'person']:\n",
    "        file = \"adj-lemmas/\"+name+'-'+pair+'.csv'\n",
    "        with open(file) as csv:\n",
    "            df = pd.read_csv(file).drop(['Unnamed: 0'], axis=1)\n",
    "        html = df[[str(i) for i in range(1810, 2001, 10)]].to_html()\n",
    "        text_file = open(\"adj-lemmas/frames/justWords/\"+name+\".html\", \"a\")\n",
    "        text_file.write('\\n'+pair+'\\n\\n\\n')\n",
    "        text_file.write(html)\n",
    "        text_file.close()\n",
    "        "
   ]
  },
  {
   "cell_type": "code",
   "execution_count": 58,
   "id": "1cfd1e13",
   "metadata": {},
   "outputs": [],
   "source": [
    " #getDFadj('gay')"
   ]
  },
  {
   "cell_type": "code",
   "execution_count": 59,
   "id": "4953ec04",
   "metadata": {},
   "outputs": [],
   "source": [
    "\n",
    "for k in keywords:\n",
    "    getDFadj(k)"
   ]
  },
  {
   "cell_type": "code",
   "execution_count": null,
   "id": "d639b67d",
   "metadata": {},
   "outputs": [],
   "source": []
  }
 ],
 "metadata": {
  "kernelspec": {
   "display_name": "Python 3 (ipykernel)",
   "language": "python",
   "name": "python3"
  },
  "language_info": {
   "codemirror_mode": {
    "name": "ipython",
    "version": 3
   },
   "file_extension": ".py",
   "mimetype": "text/x-python",
   "name": "python",
   "nbconvert_exporter": "python",
   "pygments_lexer": "ipython3",
   "version": "3.8.8"
  }
 },
 "nbformat": 4,
 "nbformat_minor": 5
}
